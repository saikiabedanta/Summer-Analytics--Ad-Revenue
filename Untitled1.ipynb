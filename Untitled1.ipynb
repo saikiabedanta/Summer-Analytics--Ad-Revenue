{
 "cells": [
  {
   "cell_type": "code",
   "execution_count": 1,
   "id": "0fbcba7d",
   "metadata": {},
   "outputs": [],
   "source": [
    "import numpy as np\n",
    "import pandas as pd\n",
    "import seaborn as sns\n",
    "from matplotlib import pyplot as plt\n",
    "\n",
    "%matplotlib inline\n",
    "\n",
    "import warnings\n",
    "warnings.filterwarnings('ignore')\n",
    "warnings.filterwarnings('ignore', category=DeprecationWarning)"
   ]
  },
  {
   "cell_type": "code",
   "execution_count": 2,
   "id": "a69d0d90",
   "metadata": {},
   "outputs": [],
   "source": [
    "data=pd.read_csv('Train_Data.csv')"
   ]
  },
  {
   "cell_type": "code",
   "execution_count": 3,
   "id": "29cf38e4",
   "metadata": {},
   "outputs": [],
   "source": [
    "test=pd.read_csv('Test_Data.csv')"
   ]
  },
  {
   "cell_type": "code",
   "execution_count": 4,
   "id": "b22c4ab1",
   "metadata": {},
   "outputs": [
    {
     "data": {
      "text/html": [
       "<div>\n",
       "<style scoped>\n",
       "    .dataframe tbody tr th:only-of-type {\n",
       "        vertical-align: middle;\n",
       "    }\n",
       "\n",
       "    .dataframe tbody tr th {\n",
       "        vertical-align: top;\n",
       "    }\n",
       "\n",
       "    .dataframe thead th {\n",
       "        text-align: right;\n",
       "    }\n",
       "</style>\n",
       "<table border=\"1\" class=\"dataframe\">\n",
       "  <thead>\n",
       "    <tr style=\"text-align: right;\">\n",
       "      <th></th>\n",
       "      <th>date</th>\n",
       "      <th>campaign</th>\n",
       "      <th>adgroup</th>\n",
       "      <th>ad</th>\n",
       "      <th>impressions</th>\n",
       "      <th>clicks</th>\n",
       "      <th>cost</th>\n",
       "      <th>conversions</th>\n",
       "      <th>revenue</th>\n",
       "    </tr>\n",
       "  </thead>\n",
       "  <tbody>\n",
       "    <tr>\n",
       "      <th>0</th>\n",
       "      <td>01-08-2020</td>\n",
       "      <td>campaign 1</td>\n",
       "      <td>adgroup 1</td>\n",
       "      <td>ad 1</td>\n",
       "      <td>24</td>\n",
       "      <td>6</td>\n",
       "      <td>0.08</td>\n",
       "      <td>0</td>\n",
       "      <td>0.00</td>\n",
       "    </tr>\n",
       "    <tr>\n",
       "      <th>1</th>\n",
       "      <td>01-08-2020</td>\n",
       "      <td>campaign 1</td>\n",
       "      <td>adgroup 2</td>\n",
       "      <td>ad 1</td>\n",
       "      <td>1</td>\n",
       "      <td>0</td>\n",
       "      <td>0.00</td>\n",
       "      <td>0</td>\n",
       "      <td>0.00</td>\n",
       "    </tr>\n",
       "    <tr>\n",
       "      <th>2</th>\n",
       "      <td>01-08-2020</td>\n",
       "      <td>campaign 1</td>\n",
       "      <td>adgroup 3</td>\n",
       "      <td>ad 1</td>\n",
       "      <td>13</td>\n",
       "      <td>4</td>\n",
       "      <td>0.04</td>\n",
       "      <td>0</td>\n",
       "      <td>0.00</td>\n",
       "    </tr>\n",
       "    <tr>\n",
       "      <th>3</th>\n",
       "      <td>01-08-2020</td>\n",
       "      <td>campaign 1</td>\n",
       "      <td>adgroup 4</td>\n",
       "      <td>ad 1</td>\n",
       "      <td>5</td>\n",
       "      <td>4</td>\n",
       "      <td>0.08</td>\n",
       "      <td>0</td>\n",
       "      <td>0.00</td>\n",
       "    </tr>\n",
       "    <tr>\n",
       "      <th>4</th>\n",
       "      <td>01-08-2020</td>\n",
       "      <td>campaign 1</td>\n",
       "      <td>adgroup 1</td>\n",
       "      <td>ad 2</td>\n",
       "      <td>247</td>\n",
       "      <td>126</td>\n",
       "      <td>1.29</td>\n",
       "      <td>4</td>\n",
       "      <td>925.71</td>\n",
       "    </tr>\n",
       "  </tbody>\n",
       "</table>\n",
       "</div>"
      ],
      "text/plain": [
       "         date    campaign    adgroup    ad  impressions  clicks  cost  \\\n",
       "0  01-08-2020  campaign 1  adgroup 1  ad 1           24       6  0.08   \n",
       "1  01-08-2020  campaign 1  adgroup 2  ad 1            1       0  0.00   \n",
       "2  01-08-2020  campaign 1  adgroup 3  ad 1           13       4  0.04   \n",
       "3  01-08-2020  campaign 1  adgroup 4  ad 1            5       4  0.08   \n",
       "4  01-08-2020  campaign 1  adgroup 1  ad 2          247     126  1.29   \n",
       "\n",
       "   conversions  revenue  \n",
       "0            0     0.00  \n",
       "1            0     0.00  \n",
       "2            0     0.00  \n",
       "3            0     0.00  \n",
       "4            4   925.71  "
      ]
     },
     "execution_count": 4,
     "metadata": {},
     "output_type": "execute_result"
    }
   ],
   "source": [
    "data.head()"
   ]
  },
  {
   "cell_type": "code",
   "execution_count": 5,
   "id": "07977d6d",
   "metadata": {},
   "outputs": [
    {
     "data": {
      "text/plain": [
       "array(['ad 1', 'ad 2', 'ad 3', 'ad 4', 'ad 5', 'ad 6', 'ad 7', 'ad 8',\n",
       "       'ad 9', 'ad 10', 'ad 11', 'ad 12', 'ad 13', 'ad 14', 'ad 15',\n",
       "       'ad 16', 'ad 17', 'ad 18', 'ad 19', 'ad 20', 'ad 21', 'ad 22',\n",
       "       'ad 23', 'ad 24', 'ad 25', 'ad 26', 'ad 27', 'ad 28', 'ad 29',\n",
       "       'ad 30', 'ad 31', 'ad 32', 'ad 33', 'ad 34', 'ad 35', 'ad 36',\n",
       "       'ad 37', 'ad 38', 'ad 39', 'ad 40', 'ad 41', 'ad 42', 'ad 43',\n",
       "       'ad 44', 'ad 45', 'ad 46', 'ad 47', 'ad 48', 'ad 49', 'ad 50',\n",
       "       'ad 51', 'ad 52', 'ad 53', 'ad 54', 'ad 55', 'ad 56', 'ad 57',\n",
       "       'ad 58', 'ad 59', 'ad 60', 'ad 61', 'ad 62', 'ad 63', 'ad 64',\n",
       "       'ad 65', 'ad 66', 'ad 67', 'ad 68', 'ad 69', 'ad 70'], dtype=object)"
      ]
     },
     "execution_count": 5,
     "metadata": {},
     "output_type": "execute_result"
    }
   ],
   "source": [
    "ads=data['ad'].unique()\n",
    "ads"
   ]
  },
  {
   "cell_type": "code",
   "execution_count": 6,
   "id": "07fc99b8",
   "metadata": {},
   "outputs": [
    {
     "data": {
      "text/plain": [
       "<AxesSubplot:xlabel='impressions', ylabel='Density'>"
      ]
     },
     "execution_count": 6,
     "metadata": {},
     "output_type": "execute_result"
    },
    {
     "data": {
      "image/png": "[encoded data removed]",
      "text/plain": [
       "<Figure size 432x288 with 1 Axes>"
      ]
     },
     "metadata": {
      "needs_background": "light"
     },
     "output_type": "display_data"
    }
   ],
   "source": [
    "sns.kdeplot(data['impressions'])"
   ]
  },
  {
   "cell_type": "code",
   "execution_count": 7,
   "id": "2bbe76ac",
   "metadata": {},
   "outputs": [
    {
     "data": {
      "text/plain": [
       "<AxesSubplot:xlabel='cost', ylabel='Density'>"
      ]
     },
     "execution_count": 7,
     "metadata": {},
     "output_type": "execute_result"
    },
    {
     "data": {
      "image/png": "[encoded data removed]",
      "text/plain": [
       "<Figure size 432x288 with 1 Axes>"
      ]
     },
     "metadata": {
      "needs_background": "light"
     },
     "output_type": "display_data"
    }
   ],
   "source": [
    "sns.kdeplot(data['cost'])"
   ]
  },
  {
   "cell_type": "code",
   "execution_count": 8,
   "id": "b4817df9",
   "metadata": {},
   "outputs": [
    {
     "data": {
      "text/plain": [
       "<AxesSubplot:>"
      ]
     },
     "execution_count": 8,
     "metadata": {},
     "output_type": "execute_result"
    },
    {
     "data": {
      "image/png": "[encoded data removed]",
      "text/plain": [
       "<Figure size 720x576 with 2 Axes>"
      ]
     },
     "metadata": {
      "needs_background": "light"
     },
     "output_type": "display_data"
    }
   ],
   "source": [
    "corr = data.corr()\n",
    "plt.figure(figsize=(10,8))\n",
    "sns.heatmap(corr, annot=True)"
   ]
  },
  {
   "cell_type": "code",
   "execution_count": null,
   "id": "4df797f7",
   "metadata": {},
   "outputs": [],
   "source": []
  },
  {
   "cell_type": "code",
   "execution_count": 9,
   "id": "892ad713",
   "metadata": {},
   "outputs": [],
   "source": [
    "data_count_imp=[]\n",
    "data_count_clicks=[]\n",
    "data_count_cost=[]\n",
    "data_count_conversions=[]\n",
    "test_count_imp=[]\n",
    "test_count_clicks=[]\n",
    "test_count_cost=[]\n",
    "test_count_conversions=[]\n",
    "data_count_revenue=[]\n",
    "for i in ads:\n",
    "    data_count_imp.append(data[data['ad']==i]['impressions'].sum())\n",
    "    data_count_clicks.append(data[data['ad']==i]['clicks'].sum())\n",
    "    data_count_cost.append(data[data['ad']==i]['cost'].sum())\n",
    "    data_count_conversions.append(data[data['ad']==i]['conversions'].sum())\n",
    "    data_count_revenue.append(data[data['ad']==i]['revenue'].sum())\n",
    "    test_count_imp.append(test[test['ad']==i]['impressions'].sum())\n",
    "    test_count_clicks.append(test[test['ad']==i]['clicks'].sum())\n",
    "    test_count_cost.append(test[test['ad']==i]['cost'].sum())\n",
    "    test_count_conversions.append(test[test['ad']==i]['conversions'].sum())"
   ]
  },
  {
   "cell_type": "code",
   "execution_count": 10,
   "id": "96d79198",
   "metadata": {},
   "outputs": [
    {
     "data": {
      "text/plain": [
       "[552,\n",
       " 982,\n",
       " 2079,\n",
       " 113,\n",
       " 92,\n",
       " 714,\n",
       " 309,\n",
       " 765,\n",
       " 0,\n",
       " 150,\n",
       " 0,\n",
       " 0,\n",
       " 0,\n",
       " 0,\n",
       " 0,\n",
       " 0,\n",
       " 0,\n",
       " 0,\n",
       " 0,\n",
       " 0,\n",
       " 0,\n",
       " 0,\n",
       " 0,\n",
       " 0,\n",
       " 0,\n",
       " 0,\n",
       " 0,\n",
       " 0,\n",
       " 0,\n",
       " 0,\n",
       " 0,\n",
       " 0,\n",
       " 0,\n",
       " 0,\n",
       " 0,\n",
       " 0,\n",
       " 0,\n",
       " 0,\n",
       " 0,\n",
       " 0,\n",
       " 0,\n",
       " 0,\n",
       " 0,\n",
       " 0,\n",
       " 0,\n",
       " 0,\n",
       " 0,\n",
       " 0,\n",
       " 0,\n",
       " 0,\n",
       " 0,\n",
       " 0,\n",
       " 0,\n",
       " 0,\n",
       " 118,\n",
       " 252,\n",
       " 0,\n",
       " 0,\n",
       " 0,\n",
       " 0,\n",
       " 0,\n",
       " 0,\n",
       " 0,\n",
       " 0,\n",
       " 0,\n",
       " 0,\n",
       " 0,\n",
       " 0,\n",
       " 0,\n",
       " 0]"
      ]
     },
     "execution_count": 10,
     "metadata": {},
     "output_type": "execute_result"
    }
   ],
   "source": [
    "test_count_clicks\n"
   ]
  },
  {
   "cell_type": "code",
   "execution_count": 11,
   "id": "ba2526d5",
   "metadata": {},
   "outputs": [
    {
     "data": {
      "text/plain": [
       "[1277,\n",
       " 2139,\n",
       " 4878,\n",
       " 251,\n",
       " 186,\n",
       " 1311,\n",
       " 750,\n",
       " 1775,\n",
       " 0,\n",
       " 371,\n",
       " 0,\n",
       " 0,\n",
       " 0,\n",
       " 0,\n",
       " 0,\n",
       " 0,\n",
       " 0,\n",
       " 0,\n",
       " 0,\n",
       " 0,\n",
       " 0,\n",
       " 0,\n",
       " 0,\n",
       " 0,\n",
       " 0,\n",
       " 0,\n",
       " 0,\n",
       " 0,\n",
       " 0,\n",
       " 0,\n",
       " 0,\n",
       " 0,\n",
       " 0,\n",
       " 0,\n",
       " 0,\n",
       " 0,\n",
       " 0,\n",
       " 0,\n",
       " 0,\n",
       " 0,\n",
       " 0,\n",
       " 0,\n",
       " 0,\n",
       " 0,\n",
       " 0,\n",
       " 0,\n",
       " 0,\n",
       " 0,\n",
       " 0,\n",
       " 0,\n",
       " 0,\n",
       " 0,\n",
       " 0,\n",
       " 0,\n",
       " 293,\n",
       " 681,\n",
       " 0,\n",
       " 0,\n",
       " 0,\n",
       " 0,\n",
       " 0,\n",
       " 0,\n",
       " 0,\n",
       " 0,\n",
       " 0,\n",
       " 0,\n",
       " 0,\n",
       " 0,\n",
       " 0,\n",
       " 0]"
      ]
     },
     "execution_count": 11,
     "metadata": {},
     "output_type": "execute_result"
    }
   ],
   "source": [
    "test_count_imp"
   ]
  },
  {
   "cell_type": "code",
   "execution_count": 12,
   "id": "b5d2c919",
   "metadata": {},
   "outputs": [],
   "source": [
    "def chan(ad,imp,clicks,type1):\n",
    "    for i in ads:\n",
    "        if(ad==i):\n",
    "            j=int(ad.split()[-1])\n",
    "            if(type1=='data'):\n",
    "                return data_count_clicks[j-1]/data_count_imp[j-1]\n",
    "            else:\n",
    "                return test_count_clicks[j-1]/test_count_imp[j-1]\n",
    "    \n",
    "    "
   ]
  },
  {
   "cell_type": "code",
   "execution_count": 13,
   "id": "36f6928c",
   "metadata": {},
   "outputs": [],
   "source": [
    "data['CTR']=data.apply(lambda x: chan(x['ad'],x['impressions'],x['clicks'],'data'),axis=1)\n",
    "test['CTR']=data.apply(lambda x: chan(x['ad'],x['impressions'],x['clicks'],'test'),axis=1,)"
   ]
  },
  {
   "cell_type": "code",
   "execution_count": 14,
   "id": "5c43486f",
   "metadata": {},
   "outputs": [],
   "source": [
    "def chan(ad,cost,click,type1):\n",
    "    for i in ads:\n",
    "        if(ad==i):\n",
    "            j=int(ad.split()[-1])\n",
    "            if(type1=='data'):\n",
    "                return data_count_cost[j-1]/data_count_clicks[j-1]\n",
    "            else:\n",
    "                return test_count_cost[j-1]/test_count_clicks[j-1]"
   ]
  },
  {
   "cell_type": "code",
   "execution_count": 15,
   "id": "496883ec",
   "metadata": {},
   "outputs": [],
   "source": [
    "data['CTC']=data.apply(lambda x: chan(x['ad'],x['cost'],x['clicks'],'data'),axis=1)\n",
    "test['CTC']=data.apply(lambda x: chan(x['ad'],x['cost'],x['clicks'],'test'),axis=1)"
   ]
  },
  {
   "cell_type": "code",
   "execution_count": 16,
   "id": "0c36e180",
   "metadata": {},
   "outputs": [],
   "source": [
    "def chan(ad,cost,conversions,type1):\n",
    "    for i in ads:\n",
    "        if(ad==i):\n",
    "            j=int(ad.split()[-1])\n",
    "            if(type1=='data'):\n",
    "                return data_count_cost[j-1]/data_count_conversions[j-1]\n",
    "            else:\n",
    "                return test_count_cost[j-1]/test_count_conversions[j-1]"
   ]
  },
  {
   "cell_type": "code",
   "execution_count": 17,
   "id": "7cd2df09",
   "metadata": {},
   "outputs": [],
   "source": [
    "data['CPA']=data.apply(lambda x: chan(x['ad'],x['cost'],x['conversions'],'data'),axis=1)\n",
    "test['CPA']=data.apply(lambda x: chan(x['ad'],x['cost'],x['conversions'],'test'),axis=1)"
   ]
  },
  {
   "cell_type": "code",
   "execution_count": 18,
   "id": "e9cdcb21",
   "metadata": {},
   "outputs": [],
   "source": [
    "def chan(ad,cost,revenue):\n",
    "    for i in ads:\n",
    "        if(ad==i):\n",
    "            j=int(ad.split()[-1])\n",
    "            return data_count_cost[j-1]/data_count_revenue[j-1]"
   ]
  },
  {
   "cell_type": "code",
   "execution_count": 19,
   "id": "c26f6b16",
   "metadata": {},
   "outputs": [],
   "source": [
    "data['ROI']=data.apply(lambda x: chan(x['ad'],x['cost'],x['revenue']),axis=1)"
   ]
  },
  {
   "cell_type": "code",
   "execution_count": 20,
   "id": "0f3ee5a4",
   "metadata": {},
   "outputs": [
    {
     "name": "stdout",
     "output_type": "stream",
     "text": [
      "<class 'pandas.core.frame.DataFrame'>\n",
      "RangeIndex: 4571 entries, 0 to 4570\n",
      "Data columns (total 13 columns):\n",
      " #   Column       Non-Null Count  Dtype  \n",
      "---  ------       --------------  -----  \n",
      " 0   date         4571 non-null   object \n",
      " 1   campaign     4571 non-null   object \n",
      " 2   adgroup      4571 non-null   object \n",
      " 3   ad           4571 non-null   object \n",
      " 4   impressions  4571 non-null   int64  \n",
      " 5   clicks       4571 non-null   int64  \n",
      " 6   cost         4571 non-null   float64\n",
      " 7   conversions  4571 non-null   int64  \n",
      " 8   revenue      4571 non-null   float64\n",
      " 9   CTR          4571 non-null   float64\n",
      " 10  CTC          4571 non-null   float64\n",
      " 11  CPA          4571 non-null   float64\n",
      " 12  ROI          4571 non-null   float64\n",
      "dtypes: float64(6), int64(3), object(4)\n",
      "memory usage: 464.4+ KB\n"
     ]
    }
   ],
   "source": [
    "data.info()"
   ]
  },
  {
   "cell_type": "code",
   "execution_count": 21,
   "id": "e9d6f091",
   "metadata": {},
   "outputs": [
    {
     "data": {
      "text/plain": [
       "8"
      ]
     },
     "execution_count": 21,
     "metadata": {},
     "output_type": "execute_result"
    }
   ],
   "source": [
    "ds = data.isin([np.inf, -np.inf])\n",
    "ds['CPA'].sum()"
   ]
  },
  {
   "cell_type": "code",
   "execution_count": 22,
   "id": "57d1361c",
   "metadata": {},
   "outputs": [],
   "source": [
    "data.replace([np.inf, -np.inf], np.nan, inplace=True)"
   ]
  },
  {
   "cell_type": "code",
   "execution_count": 23,
   "id": "1e1a2593",
   "metadata": {},
   "outputs": [
    {
     "data": {
      "text/plain": [
       "0"
      ]
     },
     "execution_count": 23,
     "metadata": {},
     "output_type": "execute_result"
    }
   ],
   "source": [
    "ds = data.isin([np.inf, -np.inf])\n",
    "ds['CPA'].sum()"
   ]
  },
  {
   "cell_type": "code",
   "execution_count": 24,
   "id": "8b337a08",
   "metadata": {},
   "outputs": [
    {
     "name": "stdout",
     "output_type": "stream",
     "text": [
      "<class 'pandas.core.frame.DataFrame'>\n",
      "RangeIndex: 4571 entries, 0 to 4570\n",
      "Data columns (total 13 columns):\n",
      " #   Column       Non-Null Count  Dtype  \n",
      "---  ------       --------------  -----  \n",
      " 0   date         4571 non-null   object \n",
      " 1   campaign     4571 non-null   object \n",
      " 2   adgroup      4571 non-null   object \n",
      " 3   ad           4571 non-null   object \n",
      " 4   impressions  4571 non-null   int64  \n",
      " 5   clicks       4571 non-null   int64  \n",
      " 6   cost         4571 non-null   float64\n",
      " 7   conversions  4571 non-null   int64  \n",
      " 8   revenue      4571 non-null   float64\n",
      " 9   CTR          4571 non-null   float64\n",
      " 10  CTC          4571 non-null   float64\n",
      " 11  CPA          4563 non-null   float64\n",
      " 12  ROI          4563 non-null   float64\n",
      "dtypes: float64(6), int64(3), object(4)\n",
      "memory usage: 464.4+ KB\n"
     ]
    }
   ],
   "source": [
    "data.info()"
   ]
  },
  {
   "cell_type": "code",
   "execution_count": 25,
   "id": "dc54590e",
   "metadata": {},
   "outputs": [
    {
     "data": {
      "text/plain": [
       "8"
      ]
     },
     "execution_count": 25,
     "metadata": {},
     "output_type": "execute_result"
    }
   ],
   "source": [
    "data['ROI'].isna().sum()"
   ]
  },
  {
   "cell_type": "code",
   "execution_count": 26,
   "id": "6b54dc03",
   "metadata": {},
   "outputs": [
    {
     "data": {
      "text/plain": [
       "8"
      ]
     },
     "execution_count": 26,
     "metadata": {},
     "output_type": "execute_result"
    }
   ],
   "source": [
    "data['CPA'].isna().sum()"
   ]
  },
  {
   "cell_type": "code",
   "execution_count": 27,
   "id": "6d998f63",
   "metadata": {},
   "outputs": [],
   "source": [
    "data['CPA'] = data['CPA'].fillna(0)\n",
    "data['ROI'] = data['ROI'].fillna(0)"
   ]
  },
  {
   "cell_type": "code",
   "execution_count": 28,
   "id": "df29f02a",
   "metadata": {},
   "outputs": [
    {
     "data": {
      "text/plain": [
       "0"
      ]
     },
     "execution_count": 28,
     "metadata": {},
     "output_type": "execute_result"
    }
   ],
   "source": [
    "data['CPA'].isna().sum()"
   ]
  },
  {
   "cell_type": "code",
   "execution_count": 29,
   "id": "3c7b1b8d",
   "metadata": {},
   "outputs": [
    {
     "data": {
      "text/plain": [
       "0"
      ]
     },
     "execution_count": 29,
     "metadata": {},
     "output_type": "execute_result"
    }
   ],
   "source": [
    "data['ROI'].isna().sum()"
   ]
  },
  {
   "cell_type": "code",
   "execution_count": 30,
   "id": "f915d3f4",
   "metadata": {},
   "outputs": [
    {
     "name": "stdout",
     "output_type": "stream",
     "text": [
      "<class 'pandas.core.frame.DataFrame'>\n",
      "RangeIndex: 4571 entries, 0 to 4570\n",
      "Data columns (total 13 columns):\n",
      " #   Column       Non-Null Count  Dtype  \n",
      "---  ------       --------------  -----  \n",
      " 0   date         4571 non-null   object \n",
      " 1   campaign     4571 non-null   object \n",
      " 2   adgroup      4571 non-null   object \n",
      " 3   ad           4571 non-null   object \n",
      " 4   impressions  4571 non-null   int64  \n",
      " 5   clicks       4571 non-null   int64  \n",
      " 6   cost         4571 non-null   float64\n",
      " 7   conversions  4571 non-null   int64  \n",
      " 8   revenue      4571 non-null   float64\n",
      " 9   CTR          4571 non-null   float64\n",
      " 10  CTC          4571 non-null   float64\n",
      " 11  CPA          4571 non-null   float64\n",
      " 12  ROI          4571 non-null   float64\n",
      "dtypes: float64(6), int64(3), object(4)\n",
      "memory usage: 464.4+ KB\n"
     ]
    }
   ],
   "source": [
    "data.info()"
   ]
  },
  {
   "cell_type": "code",
   "execution_count": 31,
   "id": "884e2f45",
   "metadata": {},
   "outputs": [
    {
     "data": {
      "text/html": [
       "<div>\n",
       "<style scoped>\n",
       "    .dataframe tbody tr th:only-of-type {\n",
       "        vertical-align: middle;\n",
       "    }\n",
       "\n",
       "    .dataframe tbody tr th {\n",
       "        vertical-align: top;\n",
       "    }\n",
       "\n",
       "    .dataframe thead th {\n",
       "        text-align: right;\n",
       "    }\n",
       "</style>\n",
       "<table border=\"1\" class=\"dataframe\">\n",
       "  <thead>\n",
       "    <tr style=\"text-align: right;\">\n",
       "      <th></th>\n",
       "      <th>date</th>\n",
       "      <th>campaign</th>\n",
       "      <th>adgroup</th>\n",
       "      <th>ad</th>\n",
       "      <th>impressions</th>\n",
       "      <th>clicks</th>\n",
       "      <th>cost</th>\n",
       "      <th>conversions</th>\n",
       "      <th>revenue</th>\n",
       "      <th>CTR</th>\n",
       "      <th>CTC</th>\n",
       "      <th>CPA</th>\n",
       "      <th>ROI</th>\n",
       "    </tr>\n",
       "  </thead>\n",
       "  <tbody>\n",
       "    <tr>\n",
       "      <th>0</th>\n",
       "      <td>01-08-2020</td>\n",
       "      <td>campaign 1</td>\n",
       "      <td>adgroup 1</td>\n",
       "      <td>ad 1</td>\n",
       "      <td>24</td>\n",
       "      <td>6</td>\n",
       "      <td>0.08</td>\n",
       "      <td>0</td>\n",
       "      <td>0.00</td>\n",
       "      <td>0.445612</td>\n",
       "      <td>0.063027</td>\n",
       "      <td>2.314554</td>\n",
       "      <td>0.016343</td>\n",
       "    </tr>\n",
       "    <tr>\n",
       "      <th>1</th>\n",
       "      <td>01-08-2020</td>\n",
       "      <td>campaign 1</td>\n",
       "      <td>adgroup 2</td>\n",
       "      <td>ad 1</td>\n",
       "      <td>1</td>\n",
       "      <td>0</td>\n",
       "      <td>0.00</td>\n",
       "      <td>0</td>\n",
       "      <td>0.00</td>\n",
       "      <td>0.445612</td>\n",
       "      <td>0.063027</td>\n",
       "      <td>2.314554</td>\n",
       "      <td>0.016343</td>\n",
       "    </tr>\n",
       "    <tr>\n",
       "      <th>2</th>\n",
       "      <td>01-08-2020</td>\n",
       "      <td>campaign 1</td>\n",
       "      <td>adgroup 3</td>\n",
       "      <td>ad 1</td>\n",
       "      <td>13</td>\n",
       "      <td>4</td>\n",
       "      <td>0.04</td>\n",
       "      <td>0</td>\n",
       "      <td>0.00</td>\n",
       "      <td>0.445612</td>\n",
       "      <td>0.063027</td>\n",
       "      <td>2.314554</td>\n",
       "      <td>0.016343</td>\n",
       "    </tr>\n",
       "    <tr>\n",
       "      <th>3</th>\n",
       "      <td>01-08-2020</td>\n",
       "      <td>campaign 1</td>\n",
       "      <td>adgroup 4</td>\n",
       "      <td>ad 1</td>\n",
       "      <td>5</td>\n",
       "      <td>4</td>\n",
       "      <td>0.08</td>\n",
       "      <td>0</td>\n",
       "      <td>0.00</td>\n",
       "      <td>0.445612</td>\n",
       "      <td>0.063027</td>\n",
       "      <td>2.314554</td>\n",
       "      <td>0.016343</td>\n",
       "    </tr>\n",
       "    <tr>\n",
       "      <th>4</th>\n",
       "      <td>01-08-2020</td>\n",
       "      <td>campaign 1</td>\n",
       "      <td>adgroup 1</td>\n",
       "      <td>ad 2</td>\n",
       "      <td>247</td>\n",
       "      <td>126</td>\n",
       "      <td>1.29</td>\n",
       "      <td>4</td>\n",
       "      <td>925.71</td>\n",
       "      <td>0.430371</td>\n",
       "      <td>0.051884</td>\n",
       "      <td>2.140761</td>\n",
       "      <td>0.015241</td>\n",
       "    </tr>\n",
       "    <tr>\n",
       "      <th>...</th>\n",
       "      <td>...</td>\n",
       "      <td>...</td>\n",
       "      <td>...</td>\n",
       "      <td>...</td>\n",
       "      <td>...</td>\n",
       "      <td>...</td>\n",
       "      <td>...</td>\n",
       "      <td>...</td>\n",
       "      <td>...</td>\n",
       "      <td>...</td>\n",
       "      <td>...</td>\n",
       "      <td>...</td>\n",
       "      <td>...</td>\n",
       "    </tr>\n",
       "    <tr>\n",
       "      <th>4566</th>\n",
       "      <td>28-02-2021</td>\n",
       "      <td>campaign 1</td>\n",
       "      <td>adgroup 3</td>\n",
       "      <td>ad 55</td>\n",
       "      <td>19</td>\n",
       "      <td>6</td>\n",
       "      <td>0.07</td>\n",
       "      <td>0</td>\n",
       "      <td>0.00</td>\n",
       "      <td>0.357240</td>\n",
       "      <td>0.042898</td>\n",
       "      <td>2.831250</td>\n",
       "      <td>0.011994</td>\n",
       "    </tr>\n",
       "    <tr>\n",
       "      <th>4567</th>\n",
       "      <td>28-02-2021</td>\n",
       "      <td>campaign 1</td>\n",
       "      <td>adgroup 4</td>\n",
       "      <td>ad 55</td>\n",
       "      <td>1</td>\n",
       "      <td>0</td>\n",
       "      <td>0.00</td>\n",
       "      <td>0</td>\n",
       "      <td>0.00</td>\n",
       "      <td>0.357240</td>\n",
       "      <td>0.042898</td>\n",
       "      <td>2.831250</td>\n",
       "      <td>0.011994</td>\n",
       "    </tr>\n",
       "    <tr>\n",
       "      <th>4568</th>\n",
       "      <td>28-02-2021</td>\n",
       "      <td>campaign 1</td>\n",
       "      <td>adgroup 3</td>\n",
       "      <td>ad 56</td>\n",
       "      <td>16</td>\n",
       "      <td>8</td>\n",
       "      <td>0.12</td>\n",
       "      <td>1</td>\n",
       "      <td>93.20</td>\n",
       "      <td>0.343760</td>\n",
       "      <td>0.037214</td>\n",
       "      <td>1.803182</td>\n",
       "      <td>0.015430</td>\n",
       "    </tr>\n",
       "    <tr>\n",
       "      <th>4569</th>\n",
       "      <td>28-02-2021</td>\n",
       "      <td>campaign 1</td>\n",
       "      <td>adgroup 1</td>\n",
       "      <td>ad 56</td>\n",
       "      <td>37</td>\n",
       "      <td>13</td>\n",
       "      <td>0.23</td>\n",
       "      <td>0</td>\n",
       "      <td>0.00</td>\n",
       "      <td>0.343760</td>\n",
       "      <td>0.037214</td>\n",
       "      <td>1.803182</td>\n",
       "      <td>0.015430</td>\n",
       "    </tr>\n",
       "    <tr>\n",
       "      <th>4570</th>\n",
       "      <td>28-02-2021</td>\n",
       "      <td>campaign 1</td>\n",
       "      <td>adgroup 1</td>\n",
       "      <td>ad 55</td>\n",
       "      <td>19</td>\n",
       "      <td>10</td>\n",
       "      <td>0.14</td>\n",
       "      <td>0</td>\n",
       "      <td>0.00</td>\n",
       "      <td>0.357240</td>\n",
       "      <td>0.042898</td>\n",
       "      <td>2.831250</td>\n",
       "      <td>0.011994</td>\n",
       "    </tr>\n",
       "  </tbody>\n",
       "</table>\n",
       "<p>4571 rows × 13 columns</p>\n",
       "</div>"
      ],
      "text/plain": [
       "            date    campaign    adgroup     ad  impressions  clicks  cost  \\\n",
       "0     01-08-2020  campaign 1  adgroup 1   ad 1           24       6  0.08   \n",
       "1     01-08-2020  campaign 1  adgroup 2   ad 1            1       0  0.00   \n",
       "2     01-08-2020  campaign 1  adgroup 3   ad 1           13       4  0.04   \n",
       "3     01-08-2020  campaign 1  adgroup 4   ad 1            5       4  0.08   \n",
       "4     01-08-2020  campaign 1  adgroup 1   ad 2          247     126  1.29   \n",
       "...          ...         ...        ...    ...          ...     ...   ...   \n",
       "4566  28-02-2021  campaign 1  adgroup 3  ad 55           19       6  0.07   \n",
       "4567  28-02-2021  campaign 1  adgroup 4  ad 55            1       0  0.00   \n",
       "4568  28-02-2021  campaign 1  adgroup 3  ad 56           16       8  0.12   \n",
       "4569  28-02-2021  campaign 1  adgroup 1  ad 56           37      13  0.23   \n",
       "4570  28-02-2021  campaign 1  adgroup 1  ad 55           19      10  0.14   \n",
       "\n",
       "      conversions  revenue       CTR       CTC       CPA       ROI  \n",
       "0               0     0.00  0.445612  0.063027  2.314554  0.016343  \n",
       "1               0     0.00  0.445612  0.063027  2.314554  0.016343  \n",
       "2               0     0.00  0.445612  0.063027  2.314554  0.016343  \n",
       "3               0     0.00  0.445612  0.063027  2.314554  0.016343  \n",
       "4               4   925.71  0.430371  0.051884  2.140761  0.015241  \n",
       "...           ...      ...       ...       ...       ...       ...  \n",
       "4566            0     0.00  0.357240  0.042898  2.831250  0.011994  \n",
       "4567            0     0.00  0.357240  0.042898  2.831250  0.011994  \n",
       "4568            1    93.20  0.343760  0.037214  1.803182  0.015430  \n",
       "4569            0     0.00  0.343760  0.037214  1.803182  0.015430  \n",
       "4570            0     0.00  0.357240  0.042898  2.831250  0.011994  \n",
       "\n",
       "[4571 rows x 13 columns]"
      ]
     },
     "execution_count": 31,
     "metadata": {},
     "output_type": "execute_result"
    }
   ],
   "source": [
    "data"
   ]
  },
  {
   "cell_type": "code",
   "execution_count": 32,
   "id": "92edfd95",
   "metadata": {},
   "outputs": [
    {
     "name": "stdout",
     "output_type": "stream",
     "text": [
      "<class 'pandas.core.frame.DataFrame'>\n",
      "RangeIndex: 318 entries, 0 to 317\n",
      "Data columns (total 11 columns):\n",
      " #   Column       Non-Null Count  Dtype  \n",
      "---  ------       --------------  -----  \n",
      " 0   date         318 non-null    object \n",
      " 1   campaign     318 non-null    object \n",
      " 2   adgroup      318 non-null    object \n",
      " 3   ad           318 non-null    object \n",
      " 4   cost         318 non-null    float64\n",
      " 5   impressions  318 non-null    int64  \n",
      " 6   clicks       318 non-null    int64  \n",
      " 7   conversions  318 non-null    int64  \n",
      " 8   CTR          302 non-null    float64\n",
      " 9   CTC          302 non-null    float64\n",
      " 10  CPA          302 non-null    float64\n",
      "dtypes: float64(4), int64(3), object(4)\n",
      "memory usage: 27.5+ KB\n"
     ]
    }
   ],
   "source": [
    "test.info()"
   ]
  },
  {
   "cell_type": "code",
   "execution_count": 33,
   "id": "3e8924ad",
   "metadata": {},
   "outputs": [],
   "source": [
    "test['CPA'].replace([np.inf, -np.inf], np.nan, inplace=True)\n"
   ]
  },
  {
   "cell_type": "code",
   "execution_count": 34,
   "id": "dcda7e3f",
   "metadata": {},
   "outputs": [
    {
     "name": "stdout",
     "output_type": "stream",
     "text": [
      "<class 'pandas.core.frame.DataFrame'>\n",
      "RangeIndex: 318 entries, 0 to 317\n",
      "Data columns (total 11 columns):\n",
      " #   Column       Non-Null Count  Dtype  \n",
      "---  ------       --------------  -----  \n",
      " 0   date         318 non-null    object \n",
      " 1   campaign     318 non-null    object \n",
      " 2   adgroup      318 non-null    object \n",
      " 3   ad           318 non-null    object \n",
      " 4   cost         318 non-null    float64\n",
      " 5   impressions  318 non-null    int64  \n",
      " 6   clicks       318 non-null    int64  \n",
      " 7   conversions  318 non-null    int64  \n",
      " 8   CTR          302 non-null    float64\n",
      " 9   CTC          302 non-null    float64\n",
      " 10  CPA          285 non-null    float64\n",
      "dtypes: float64(4), int64(3), object(4)\n",
      "memory usage: 27.5+ KB\n"
     ]
    }
   ],
   "source": [
    "test.info()"
   ]
  },
  {
   "cell_type": "code",
   "execution_count": 35,
   "id": "ceb9f1d7",
   "metadata": {},
   "outputs": [],
   "source": [
    "test['CPA']=test['CPA'].fillna('0')\n",
    "test['CTC']=test['CPA'].fillna('0')\n",
    "test['CTR']=test['CPA'].fillna('0')"
   ]
  },
  {
   "cell_type": "code",
   "execution_count": 36,
   "id": "dd0d244d",
   "metadata": {},
   "outputs": [
    {
     "name": "stdout",
     "output_type": "stream",
     "text": [
      "<class 'pandas.core.frame.DataFrame'>\n",
      "RangeIndex: 318 entries, 0 to 317\n",
      "Data columns (total 11 columns):\n",
      " #   Column       Non-Null Count  Dtype  \n",
      "---  ------       --------------  -----  \n",
      " 0   date         318 non-null    object \n",
      " 1   campaign     318 non-null    object \n",
      " 2   adgroup      318 non-null    object \n",
      " 3   ad           318 non-null    object \n",
      " 4   cost         318 non-null    float64\n",
      " 5   impressions  318 non-null    int64  \n",
      " 6   clicks       318 non-null    int64  \n",
      " 7   conversions  318 non-null    int64  \n",
      " 8   CTR          318 non-null    object \n",
      " 9   CTC          318 non-null    object \n",
      " 10  CPA          318 non-null    object \n",
      "dtypes: float64(1), int64(3), object(7)\n",
      "memory usage: 27.5+ KB\n"
     ]
    }
   ],
   "source": [
    "test.info()"
   ]
  },
  {
   "cell_type": "code",
   "execution_count": 37,
   "id": "0963b11a",
   "metadata": {},
   "outputs": [],
   "source": [
    "y=data.pop('revenue')"
   ]
  },
  {
   "cell_type": "code",
   "execution_count": 45,
   "id": "5b1c4b07",
   "metadata": {},
   "outputs": [],
   "source": [
    "from mlxtend.evaluate import bias_variance_decomp\n",
    "from sklearn.model_selection import train_test_split"
   ]
  },
  {
   "cell_type": "code",
   "execution_count": 39,
   "id": "2c7acca7",
   "metadata": {},
   "outputs": [],
   "source": [
    "data1=data[['impressions','clicks','cost','conversions','CTR','CTC','CPA','ROI']]\n",
    "test1=test[['impressions','clicks','cost','conversions','CTR','CTC','CPA']]"
   ]
  },
  {
   "cell_type": "code",
   "execution_count": 40,
   "id": "05a4ce7e",
   "metadata": {},
   "outputs": [
    {
     "data": {
      "text/html": [
       "<div>\n",
       "<style scoped>\n",
       "    .dataframe tbody tr th:only-of-type {\n",
       "        vertical-align: middle;\n",
       "    }\n",
       "\n",
       "    .dataframe tbody tr th {\n",
       "        vertical-align: top;\n",
       "    }\n",
       "\n",
       "    .dataframe thead th {\n",
       "        text-align: right;\n",
       "    }\n",
       "</style>\n",
       "<table border=\"1\" class=\"dataframe\">\n",
       "  <thead>\n",
       "    <tr style=\"text-align: right;\">\n",
       "      <th></th>\n",
       "      <th>0</th>\n",
       "      <th>1</th>\n",
       "      <th>2</th>\n",
       "      <th>3</th>\n",
       "      <th>4</th>\n",
       "      <th>5</th>\n",
       "      <th>6</th>\n",
       "    </tr>\n",
       "  </thead>\n",
       "  <tbody>\n",
       "    <tr>\n",
       "      <th>0</th>\n",
       "      <td>0.037060</td>\n",
       "      <td>0.027668</td>\n",
       "      <td>0.001092</td>\n",
       "      <td>0.010638</td>\n",
       "      <td>0.484336</td>\n",
       "      <td>2.162426</td>\n",
       "      <td>0.040943</td>\n",
       "    </tr>\n",
       "    <tr>\n",
       "      <th>1</th>\n",
       "      <td>0.006485</td>\n",
       "      <td>0.006776</td>\n",
       "      <td>0.000320</td>\n",
       "      <td>0.000000</td>\n",
       "      <td>0.484336</td>\n",
       "      <td>2.162426</td>\n",
       "      <td>0.040943</td>\n",
       "    </tr>\n",
       "    <tr>\n",
       "      <th>2</th>\n",
       "      <td>0.001235</td>\n",
       "      <td>0.001694</td>\n",
       "      <td>0.000094</td>\n",
       "      <td>0.000000</td>\n",
       "      <td>0.484336</td>\n",
       "      <td>2.162426</td>\n",
       "      <td>0.040943</td>\n",
       "    </tr>\n",
       "    <tr>\n",
       "      <th>3</th>\n",
       "      <td>0.000309</td>\n",
       "      <td>0.000565</td>\n",
       "      <td>0.000019</td>\n",
       "      <td>0.000000</td>\n",
       "      <td>0.484336</td>\n",
       "      <td>2.162426</td>\n",
       "      <td>0.040943</td>\n",
       "    </tr>\n",
       "    <tr>\n",
       "      <th>4</th>\n",
       "      <td>0.000618</td>\n",
       "      <td>0.000565</td>\n",
       "      <td>0.000019</td>\n",
       "      <td>0.000000</td>\n",
       "      <td>0.211401</td>\n",
       "      <td>1.825502</td>\n",
       "      <td>0.034713</td>\n",
       "    </tr>\n",
       "  </tbody>\n",
       "</table>\n",
       "</div>"
      ],
      "text/plain": [
       "          0         1         2         3         4         5         6\n",
       "0  0.037060  0.027668  0.001092  0.010638  0.484336  2.162426  0.040943\n",
       "1  0.006485  0.006776  0.000320  0.000000  0.484336  2.162426  0.040943\n",
       "2  0.001235  0.001694  0.000094  0.000000  0.484336  2.162426  0.040943\n",
       "3  0.000309  0.000565  0.000019  0.000000  0.484336  2.162426  0.040943\n",
       "4  0.000618  0.000565  0.000019  0.000000  0.211401  1.825502  0.034713"
      ]
     },
     "execution_count": 40,
     "metadata": {},
     "output_type": "execute_result"
    }
   ],
   "source": [
    "from sklearn.preprocessing import MinMaxScaler\n",
    "sc=MinMaxScaler()\n",
    "sc.fit(data1[['impressions','clicks','cost','conversions','CTR','CTC','CPA']])\n",
    "data_scaled=sc.transform(data1[['impressions','clicks','cost','conversions','CTR','CTC','CPA']])\n",
    "test_scaled=pd.DataFrame(sc.transform(test1))\n",
    "test_scaled.head()"
   ]
  },
  {
   "cell_type": "code",
   "execution_count": null,
   "id": "e72b6a3e",
   "metadata": {},
   "outputs": [],
   "source": []
  },
  {
   "cell_type": "code",
   "execution_count": 41,
   "id": "19e02fc2",
   "metadata": {},
   "outputs": [
    {
     "data": {
      "text/plain": [
       "RandomForestRegressor()"
      ]
     },
     "execution_count": 41,
     "metadata": {},
     "output_type": "execute_result"
    }
   ],
   "source": [
    "from sklearn.ensemble import RandomForestRegressor\n",
    "rf = RandomForestRegressor()\n",
    "rf.fit(data_scaled, y)"
   ]
  },
  {
   "cell_type": "code",
   "execution_count": 42,
   "id": "88ee76a7",
   "metadata": {},
   "outputs": [],
   "source": [
    "predictions =rf.predict(test_scaled)"
   ]
  },
  {
   "cell_type": "code",
   "execution_count": 61,
   "id": "cbb1b78f",
   "metadata": {},
   "outputs": [],
   "source": [
    "predictions_df=pd.DataFrame(predictions, columns=['revenue'])\n",
    "predictions_df\n",
    "#predictions_df['revenue'] = predictions\n",
    "predictions_df.to_csv('Predictions2_RFR.csv', index=False)"
   ]
  },
  {
   "cell_type": "code",
   "execution_count": 62,
   "id": "2aaa8508",
   "metadata": {},
   "outputs": [],
   "source": [
    "#SVM"
   ]
  },
  {
   "cell_type": "code",
   "execution_count": 63,
   "id": "c3e22332",
   "metadata": {},
   "outputs": [
    {
     "data": {
      "text/plain": [
       "SVR()"
      ]
     },
     "execution_count": 63,
     "metadata": {},
     "output_type": "execute_result"
    }
   ],
   "source": [
    "from sklearn.svm import SVR\n",
    "regressor = SVR(kernel = 'rbf')\n",
    "regressor.fit(data_scaled, y)"
   ]
  },
  {
   "cell_type": "code",
   "execution_count": 64,
   "id": "c160b262",
   "metadata": {},
   "outputs": [],
   "source": [
    "predictions1 =regressor.predict(test_scaled)"
   ]
  },
  {
   "cell_type": "code",
   "execution_count": 65,
   "id": "592b8deb",
   "metadata": {},
   "outputs": [],
   "source": [
    "predictions_df1=pd.DataFrame(predictions1, columns=['revenue'])\n",
    "predictions_df1\n",
    "#predictions_df['revenue'] = predictions\n",
    "predictions_df1.to_csv('Predictions2_SVR.csv', index=False)"
   ]
  },
  {
   "cell_type": "code",
   "execution_count": null,
   "id": "531092a3",
   "metadata": {},
   "outputs": [],
   "source": []
  },
  {
   "cell_type": "code",
   "execution_count": null,
   "id": "39511dd8",
   "metadata": {},
   "outputs": [],
   "source": []
  },
  {
   "cell_type": "code",
   "execution_count": 66,
   "id": "ad47d087",
   "metadata": {},
   "outputs": [],
   "source": [
    "#ANN"
   ]
  },
  {
   "cell_type": "code",
   "execution_count": 67,
   "id": "8cdc12a1",
   "metadata": {},
   "outputs": [],
   "source": [
    "import tensorflow as tf\n",
    "from tensorflow import keras\n",
    "from tensorflow.keras.models import Sequential\n",
    "from tensorflow.keras.layers import Dense, Activation,Dropout\n",
    "from tensorflow.keras.callbacks import EarlyStopping"
   ]
  },
  {
   "cell_type": "code",
   "execution_count": 75,
   "id": "d1c2879a",
   "metadata": {},
   "outputs": [],
   "source": [
    "model = Sequential()\n",
    "\n",
    "# https://stats.stackexchange.com/questions/181/how-to-choose-the-number-of-hidden-layers-and-nodes-in-a-feedforward-neural-netw\n",
    "\n",
    "model.add(Dense(units=128,activation='relu'))\n",
    "model.add(Dropout(0.2, input_shape=(128,)))\n",
    "\n",
    "model.add(Dense(units=64,activation='relu'))\n",
    "model.add(Dropout(0.2, input_shape=(64,)))\n",
    "#model.add(Dense(units=32,activation='relu'))\n",
    "\n",
    "#model.add(Dense(units=16,activation='relu'))\n",
    "model.add(Dense(units=1))\n",
    "\n",
    "# For a binary classification problem\n",
    "model.compile(loss='mse', optimizer=tf.keras.optimizers.Adam(lr=0.00001))"
   ]
  },
  {
   "cell_type": "code",
   "execution_count": 76,
   "id": "4261e54d",
   "metadata": {},
   "outputs": [],
   "source": [
    "early_stop=EarlyStopping(monitor='val_loss', patience=5)"
   ]
  },
  {
   "cell_type": "code",
   "execution_count": 77,
   "id": "1eda2cda",
   "metadata": {},
   "outputs": [
    {
     "name": "stdout",
     "output_type": "stream",
     "text": [
      "Epoch 1/100\n",
      "33/33 [==============================] - 0s 6ms/step - loss: 1350872.7500 - val_loss: 297595.8438\n",
      "Epoch 2/100\n",
      "33/33 [==============================] - 0s 2ms/step - loss: 1350874.2500 - val_loss: 297593.3750\n",
      "Epoch 3/100\n",
      "33/33 [==============================] - 0s 2ms/step - loss: 1350868.0000 - val_loss: 297590.8750\n",
      "Epoch 4/100\n",
      "33/33 [==============================] - 0s 2ms/step - loss: 1350865.0000 - val_loss: 297588.4062\n",
      "Epoch 5/100\n",
      "33/33 [==============================] - 0s 2ms/step - loss: 1350859.8750 - val_loss: 297585.8438\n",
      "Epoch 6/100\n",
      "33/33 [==============================] - 0s 2ms/step - loss: 1350853.2500 - val_loss: 297583.1875\n",
      "Epoch 7/100\n",
      "33/33 [==============================] - ETA: 0s - loss: 1284283.625 - 0s 2ms/step - loss: 1350847.5000 - val_loss: 297580.6875\n",
      "Epoch 8/100\n",
      "33/33 [==============================] - 0s 2ms/step - loss: 1350841.6250 - val_loss: 297578.0938\n",
      "Epoch 9/100\n",
      "33/33 [==============================] - 0s 3ms/step - loss: 1350832.2500 - val_loss: 297575.3438\n",
      "Epoch 10/100\n",
      "33/33 [==============================] - 0s 2ms/step - loss: 1350824.5000 - val_loss: 297572.5625\n",
      "Epoch 11/100\n",
      "33/33 [==============================] - ETA: 0s - loss: 1345322.875 - 0s 3ms/step - loss: 1350818.2500 - val_loss: 297569.7812\n",
      "Epoch 12/100\n",
      "33/33 [==============================] - 0s 2ms/step - loss: 1350816.2500 - val_loss: 297566.9375\n",
      "Epoch 13/100\n",
      "33/33 [==============================] - 0s 2ms/step - loss: 1350801.5000 - val_loss: 297564.1250\n",
      "Epoch 14/100\n",
      "33/33 [==============================] - 0s 2ms/step - loss: 1350797.0000 - val_loss: 297561.0938\n",
      "Epoch 15/100\n",
      "33/33 [==============================] - 0s 2ms/step - loss: 1350798.3750 - val_loss: 297558.2188\n",
      "Epoch 16/100\n",
      "33/33 [==============================] - 0s 3ms/step - loss: 1350796.0000 - val_loss: 297555.4375\n",
      "Epoch 17/100\n",
      "33/33 [==============================] - 0s 2ms/step - loss: 1350787.3750 - val_loss: 297552.5000\n",
      "Epoch 18/100\n",
      "33/33 [==============================] - 0s 3ms/step - loss: 1350777.5000 - val_loss: 297549.4062\n",
      "Epoch 19/100\n",
      "33/33 [==============================] - 0s 2ms/step - loss: 1350771.7500 - val_loss: 297546.3750\n",
      "Epoch 20/100\n",
      "33/33 [==============================] - 0s 5ms/step - loss: 1350767.7500 - val_loss: 297543.2812\n",
      "Epoch 21/100\n",
      "33/33 [==============================] - 0s 3ms/step - loss: 1350752.3750 - val_loss: 297540.0625\n",
      "Epoch 22/100\n",
      "33/33 [==============================] - 0s 3ms/step - loss: 1350757.3750 - val_loss: 297536.9688\n",
      "Epoch 23/100\n",
      "33/33 [==============================] - 0s 3ms/step - loss: 1350737.3750 - val_loss: 297533.6562\n",
      "Epoch 24/100\n",
      "33/33 [==============================] - 0s 3ms/step - loss: 1350737.6250 - val_loss: 297530.3750\n",
      "Epoch 25/100\n",
      "33/33 [==============================] - 0s 3ms/step - loss: 1350741.0000 - val_loss: 297527.0312\n",
      "Epoch 26/100\n",
      "33/33 [==============================] - 0s 3ms/step - loss: 1350722.2500 - val_loss: 297523.6562\n",
      "Epoch 27/100\n",
      "33/33 [==============================] - 0s 3ms/step - loss: 1350716.6250 - val_loss: 297519.9062\n",
      "Epoch 28/100\n",
      "33/33 [==============================] - 0s 4ms/step - loss: 1350705.5000 - val_loss: 297516.5625\n",
      "Epoch 29/100\n",
      "33/33 [==============================] - 0s 3ms/step - loss: 1350699.0000 - val_loss: 297513.0000\n",
      "Epoch 30/100\n",
      "33/33 [==============================] - 0s 3ms/step - loss: 1350688.5000 - val_loss: 297509.3125\n",
      "Epoch 31/100\n",
      "33/33 [==============================] - 0s 3ms/step - loss: 1350687.2500 - val_loss: 297505.5938\n",
      "Epoch 32/100\n",
      "33/33 [==============================] - 0s 3ms/step - loss: 1350685.7500 - val_loss: 297501.9688\n",
      "Epoch 33/100\n",
      "33/33 [==============================] - 0s 3ms/step - loss: 1350659.7500 - val_loss: 297498.1875\n",
      "Epoch 34/100\n",
      "33/33 [==============================] - 0s 3ms/step - loss: 1350666.6250 - val_loss: 297494.4375\n",
      "Epoch 35/100\n",
      "33/33 [==============================] - 0s 2ms/step - loss: 1350656.3750 - val_loss: 297490.4375\n",
      "Epoch 36/100\n",
      "33/33 [==============================] - 0s 2ms/step - loss: 1350645.8750 - val_loss: 297486.5938\n",
      "Epoch 37/100\n",
      "33/33 [==============================] - 0s 2ms/step - loss: 1350634.0000 - val_loss: 297482.6562\n",
      "Epoch 38/100\n",
      "33/33 [==============================] - 0s 3ms/step - loss: 1350624.6250 - val_loss: 297478.6250\n",
      "Epoch 39/100\n",
      "33/33 [==============================] - 0s 3ms/step - loss: 1350616.3750 - val_loss: 297474.4688\n",
      "Epoch 40/100\n",
      "33/33 [==============================] - ETA: 0s - loss: 1413443.000 - 0s 2ms/step - loss: 1350611.0000 - val_loss: 297469.9062\n",
      "Epoch 41/100\n",
      "33/33 [==============================] - 0s 3ms/step - loss: 1350591.8750 - val_loss: 297465.6562\n",
      "Epoch 42/100\n",
      "33/33 [==============================] - 0s 3ms/step - loss: 1350591.8750 - val_loss: 297461.2188\n",
      "Epoch 43/100\n",
      "33/33 [==============================] - 0s 3ms/step - loss: 1350583.7500 - val_loss: 297456.9062\n",
      "Epoch 44/100\n",
      "33/33 [==============================] - 0s 3ms/step - loss: 1350572.1250 - val_loss: 297452.5312\n",
      "Epoch 45/100\n",
      "33/33 [==============================] - 0s 3ms/step - loss: 1350554.7500 - val_loss: 297447.9688\n",
      "Epoch 46/100\n",
      "33/33 [==============================] - 0s 3ms/step - loss: 1350553.5000 - val_loss: 297443.4688\n",
      "Epoch 47/100\n",
      "33/33 [==============================] - 0s 3ms/step - loss: 1350529.5000 - val_loss: 297439.0312\n",
      "Epoch 48/100\n",
      "33/33 [==============================] - 0s 3ms/step - loss: 1350542.0000 - val_loss: 297434.2812\n",
      "Epoch 49/100\n",
      "33/33 [==============================] - 0s 3ms/step - loss: 1350531.7500 - val_loss: 297429.7500\n",
      "Epoch 50/100\n",
      "33/33 [==============================] - 0s 4ms/step - loss: 1350501.7500 - val_loss: 297424.8438\n",
      "Epoch 51/100\n",
      "33/33 [==============================] - 0s 5ms/step - loss: 1350495.5000 - val_loss: 297420.1250\n",
      "Epoch 52/100\n",
      "33/33 [==============================] - 0s 5ms/step - loss: 1350495.3750 - val_loss: 297415.2812\n",
      "Epoch 53/100\n",
      "33/33 [==============================] - 0s 4ms/step - loss: 1350482.5000 - val_loss: 297410.2500\n",
      "Epoch 54/100\n",
      "33/33 [==============================] - 0s 5ms/step - loss: 1350474.3750 - val_loss: 297405.4062\n",
      "Epoch 55/100\n",
      "33/33 [==============================] - 0s 4ms/step - loss: 1350455.5000 - val_loss: 297400.3125\n",
      "Epoch 56/100\n",
      "33/33 [==============================] - 0s 4ms/step - loss: 1350457.7500 - val_loss: 297395.0312\n",
      "Epoch 57/100\n",
      "33/33 [==============================] - 0s 4ms/step - loss: 1350437.1250 - val_loss: 297389.8438\n",
      "Epoch 58/100\n",
      "33/33 [==============================] - 0s 4ms/step - loss: 1350411.2500 - val_loss: 297384.3125\n",
      "Epoch 59/100\n",
      "33/33 [==============================] - 0s 4ms/step - loss: 1350430.6250 - val_loss: 297379.1875\n",
      "Epoch 60/100\n",
      "33/33 [==============================] - 0s 4ms/step - loss: 1350411.6250 - val_loss: 297373.5625\n",
      "Epoch 61/100\n",
      "33/33 [==============================] - 0s 4ms/step - loss: 1350380.5000 - val_loss: 297368.0000\n",
      "Epoch 62/100\n",
      "33/33 [==============================] - 0s 5ms/step - loss: 1350381.5000 - val_loss: 297362.4688\n",
      "Epoch 63/100\n",
      "33/33 [==============================] - 0s 4ms/step - loss: 1350378.1250 - val_loss: 297356.8125\n",
      "Epoch 64/100\n",
      "33/33 [==============================] - 0s 5ms/step - loss: 1350347.2500 - val_loss: 297350.9375\n",
      "Epoch 65/100\n",
      "33/33 [==============================] - 0s 5ms/step - loss: 1350332.7500 - val_loss: 297345.2188\n",
      "Epoch 66/100\n",
      "33/33 [==============================] - 0s 4ms/step - loss: 1350323.2500 - val_loss: 297339.3438\n",
      "Epoch 67/100\n",
      "33/33 [==============================] - 0s 4ms/step - loss: 1350306.8750 - val_loss: 297333.6562\n",
      "Epoch 68/100\n",
      "33/33 [==============================] - 0s 3ms/step - loss: 1350288.8750 - val_loss: 297327.2812\n",
      "Epoch 69/100\n",
      "33/33 [==============================] - 0s 3ms/step - loss: 1350277.1250 - val_loss: 297320.9062\n",
      "Epoch 70/100\n",
      "33/33 [==============================] - 0s 3ms/step - loss: 1350264.1250 - val_loss: 297314.7500\n",
      "Epoch 71/100\n",
      "33/33 [==============================] - 0s 3ms/step - loss: 1350252.6250 - val_loss: 297307.8750\n",
      "Epoch 72/100\n",
      "33/33 [==============================] - 0s 3ms/step - loss: 1350264.0000 - val_loss: 297301.4375\n",
      "Epoch 73/100\n",
      "33/33 [==============================] - 0s 3ms/step - loss: 1350227.2500 - val_loss: 297295.2188\n",
      "Epoch 74/100\n"
     ]
    },
    {
     "name": "stdout",
     "output_type": "stream",
     "text": [
      "33/33 [==============================] - 0s 3ms/step - loss: 1350202.6250 - val_loss: 297288.8750\n",
      "Epoch 75/100\n",
      "33/33 [==============================] - 0s 3ms/step - loss: 1350194.2500 - val_loss: 297282.5938\n",
      "Epoch 76/100\n",
      "33/33 [==============================] - 0s 3ms/step - loss: 1350164.8750 - val_loss: 297275.1875\n",
      "Epoch 77/100\n",
      "33/33 [==============================] - 0s 2ms/step - loss: 1350163.6250 - val_loss: 297268.3750\n",
      "Epoch 78/100\n",
      "33/33 [==============================] - 0s 3ms/step - loss: 1350159.1250 - val_loss: 297261.8125\n",
      "Epoch 79/100\n",
      "33/33 [==============================] - 0s 3ms/step - loss: 1350137.6250 - val_loss: 297254.8750\n",
      "Epoch 80/100\n",
      "33/33 [==============================] - 0s 2ms/step - loss: 1350147.5000 - val_loss: 297248.2812\n",
      "Epoch 81/100\n",
      "33/33 [==============================] - 0s 2ms/step - loss: 1350116.6250 - val_loss: 297241.4062\n",
      "Epoch 82/100\n",
      "33/33 [==============================] - 0s 3ms/step - loss: 1350113.0000 - val_loss: 297234.5625\n",
      "Epoch 83/100\n",
      "33/33 [==============================] - 0s 2ms/step - loss: 1350052.2500 - val_loss: 297227.2500\n",
      "Epoch 84/100\n",
      "33/33 [==============================] - 0s 3ms/step - loss: 1350060.7500 - val_loss: 297219.5938\n",
      "Epoch 85/100\n",
      "33/33 [==============================] - 0s 2ms/step - loss: 1350083.0000 - val_loss: 297212.5000\n",
      "Epoch 86/100\n",
      "33/33 [==============================] - ETA: 0s - loss: 1350047.750 - 0s 2ms/step - loss: 1350047.7500 - val_loss: 297205.0312\n",
      "Epoch 87/100\n",
      "33/33 [==============================] - 0s 2ms/step - loss: 1350022.1250 - val_loss: 297197.8438\n",
      "Epoch 88/100\n",
      "33/33 [==============================] - 0s 2ms/step - loss: 1349999.6250 - val_loss: 297190.1250\n",
      "Epoch 89/100\n",
      "33/33 [==============================] - 0s 2ms/step - loss: 1349976.6250 - val_loss: 297182.0938\n",
      "Epoch 90/100\n",
      "33/33 [==============================] - 0s 2ms/step - loss: 1349949.1250 - val_loss: 297174.2500\n",
      "Epoch 91/100\n",
      "33/33 [==============================] - 0s 2ms/step - loss: 1349956.5000 - val_loss: 297166.3125\n",
      "Epoch 92/100\n",
      "33/33 [==============================] - 0s 2ms/step - loss: 1349934.8750 - val_loss: 297158.2500\n",
      "Epoch 93/100\n",
      "33/33 [==============================] - 0s 2ms/step - loss: 1349910.6250 - val_loss: 297149.3750\n",
      "Epoch 94/100\n",
      "33/33 [==============================] - 0s 2ms/step - loss: 1349892.5000 - val_loss: 297141.0938\n",
      "Epoch 95/100\n",
      "33/33 [==============================] - 0s 2ms/step - loss: 1349881.3750 - val_loss: 297133.0000\n",
      "Epoch 96/100\n",
      "33/33 [==============================] - 0s 2ms/step - loss: 1349870.0000 - val_loss: 297124.1875\n",
      "Epoch 97/100\n",
      "33/33 [==============================] - 0s 2ms/step - loss: 1349837.0000 - val_loss: 297115.4688\n",
      "Epoch 98/100\n",
      "33/33 [==============================] - 0s 3ms/step - loss: 1349841.2500 - val_loss: 297106.8750\n",
      "Epoch 99/100\n",
      "33/33 [==============================] - ETA: 0s - loss: 1459606.375 - 0s 3ms/step - loss: 1349785.3750 - val_loss: 297097.9062\n",
      "Epoch 100/100\n",
      "33/33 [==============================] - 0s 2ms/step - loss: 1349777.0000 - val_loss: 297088.6562\n"
     ]
    },
    {
     "data": {
      "text/plain": [
       "<tensorflow.python.keras.callbacks.History at 0x17523df0e50>"
      ]
     },
     "execution_count": 77,
     "metadata": {},
     "output_type": "execute_result"
    }
   ],
   "source": [
    "model.fit(x=data_scaled, y=y, epochs=100,callbacks=[early_stop], validation_split=0.1,verbose=1,batch_size=128)"
   ]
  },
  {
   "cell_type": "code",
   "execution_count": 81,
   "id": "602c6008",
   "metadata": {},
   "outputs": [],
   "source": [
    "predictions3=model.predict(test_scaled)"
   ]
  },
  {
   "cell_type": "code",
   "execution_count": 82,
   "id": "c5cab494",
   "metadata": {},
   "outputs": [],
   "source": [
    "predictions_df3=pd.DataFrame(predictions3, columns=['revenue'])\n",
    "predictions_df3\n",
    "#predictions_df['revenue'] = predictions\n",
    "predictions_df3.to_csv('Predictions2_ANN.csv', index=False)"
   ]
  },
  {
   "cell_type": "code",
   "execution_count": null,
   "id": "f0877367",
   "metadata": {},
   "outputs": [],
   "source": []
  }
 ],
 "metadata": {
  "kernelspec": {
   "display_name": "Python 3",
   "language": "python",
   "name": "python3"
  },
  "language_info": {
   "codemirror_mode": {
    "name": "ipython",
    "version": 3
   },
   "file_extension": ".py",
   "mimetype": "text/x-python",
   "name": "python",
   "nbconvert_exporter": "python",
   "pygments_lexer": "ipython3",
   "version": "3.8.10"
  }
 },
 "nbformat": 4,
 "nbformat_minor": 5
}
